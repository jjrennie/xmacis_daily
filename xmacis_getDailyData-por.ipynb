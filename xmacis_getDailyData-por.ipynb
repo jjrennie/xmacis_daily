{
 "cells": [
  {
   "cell_type": "markdown",
   "id": "c165867a-5fe2-4c4d-ad8e-3f1e4d74a3b4",
   "metadata": {},
   "source": [
    "# Get Daily Station Data from xmACIS\n",
    "## Written By Jared Rennie (@jjrennie)\n",
    "\n",
    "Taps into the ACIS API to get daily station data for its period of record.\n",
    "\n",
    "- API: https://www.rcc-acis.org/docs_webservices.html\n",
    "- Query Builder: https://builder.rcc-acis.org/\n",
    "\n",
    "### What You Need\n",
    "\n",
    "First off, the entire codebase works in Python 3. In addition to base Python, you will need the following packages installed: \n",
    "- requests (to access the api)\n",
    "- pandas (to slice annd dice the data)\n",
    "    \n",
    "The \"easiest\" way is to install these is by installing <a href='https://www.anaconda.com' target=\"_blank\">anaconda</a>, and then applying <a href='https://conda-forge.org/' target=\"_blank\">conda-forge</a>. Afterward, then you can install the above packages. \n",
    "\n",
    "### Importing Packages\n",
    "Assuming you did the above, it should (in theory) import everything no problem:"
   ]
  },
  {
   "cell_type": "code",
   "execution_count": 1,
   "id": "944292e8-de3f-4eb7-8ca7-f0506e4baaea",
   "metadata": {},
   "outputs": [
    {
     "name": "stdout",
     "output_type": "stream",
     "text": [
      "SUCCESS!\n"
     ]
    }
   ],
   "source": [
    "# Import Packages\n",
    "import json,requests,sys\n",
    "import pandas as pd\n",
    "\n",
    "print(\"SUCCESS!\")"
   ]
  },
  {
   "cell_type": "markdown",
   "id": "9cdaedfa-85f1-4df7-8f20-0af88034f88b",
   "metadata": {},
   "source": [
    "If you made it this far, great!\n",
    "\n",
    "### Insert Arguments\n",
    "To access the data, we will be utilizing the <a href='https://www.rcc-acis.org/docs_webservices.html' target='blank'>ACIS API</a>, which is a quick and easy way to access our station data without having to download it yourself. Now we need to know what station to get data for. The ACIS API accepts all sorts of IDs, including:\n",
    "\n",
    "- FAA (i.e. AVL)\n",
    "- ghcn (i.e. USW00003812)\n",
    "- ThreadEx (i.e. AVLthr)\n",
    "\n",
    "If you're not sure, you can refer to the API documentation above.\n",
    "\n",
    " **Change the arguments below to your liking**"
   ]
  },
  {
   "cell_type": "code",
   "execution_count": 2,
   "id": "774fbdc0-30cc-4248-ae19-bb4444e7cf8b",
   "metadata": {},
   "outputs": [],
   "source": [
    "# Insert Arguments Here\n",
    "stationID = 'DCA'"
   ]
  },
  {
   "cell_type": "markdown",
   "id": "192e99e5-807d-4ceb-915a-2919591f4332",
   "metadata": {},
   "source": [
    "The rest of the code should work without making any changes to it, but if you're interested, keep on reading to see how the sausage is made.\n",
    "\n",
    "This next block of code will attempt to access the data we want from the ACIS API. The API is publicly available, but sometimes there are hiccups when getting the data. We tried to account for this with a try/exept in this code block and it will let you know if it fails after 3 seconds. If this happens, wait a minute, then try again."
   ]
  },
  {
   "cell_type": "code",
   "execution_count": 3,
   "id": "842c115d-c5e1-41f1-848c-9a3e592ae700",
   "metadata": {},
   "outputs": [
    {
     "name": "stdout",
     "output_type": "stream",
     "text": [
      "SUCCESS!\n"
     ]
    }
   ],
   "source": [
    "# DEFINE ACIS URL \n",
    "# API Info: https://www.rcc-acis.org/docs_webservices.html\n",
    "# Query Builder: https://builder.rcc-acis.org/\n",
    "acis_url = 'http://data.rcc-acis.org/StnData'\n",
    "\n",
    "# Build JSON to access ACIS API\n",
    "# Gets 5 Variables (MaxT, MinT, Precip, Snow, Snow Depth)\n",
    "# To get more, use the API Info or Query Builder above.\n",
    "payload = {\n",
    "\"output\": \"json\",\n",
    "\"params\": {\"elems\":[{\"name\":\"maxt\",\"interval\":\"dly\",\"prec\":1},\n",
    "                    {\"name\":\"mint\",\"interval\":\"dly\",\"prec\":1},\n",
    "                    {\"name\":\"pcpn\",\"interval\":\"dly\",\"prec\":2},\n",
    "                    {\"name\":\"snow\",\"interval\":\"dly\",\"prec\":1},\n",
    "                    {\"name\":\"snwd\",\"interval\":\"dly\",\"prec\":1}],\n",
    "           \"sid\":stationID,\n",
    "           \"sdate\":\"por\",\n",
    "           \"edate\":\"por\"\n",
    "          } \n",
    "}\n",
    "# Make Request\n",
    "try:\n",
    "    r = requests.post(acis_url, json=payload,timeout=3)\n",
    "    acisData = r.json()\n",
    "    print(\"SUCCESS!\")\n",
    "except Exception as e:\n",
    "\tsys.exit('\\nSomething Went Wrong With Accessing API after 3 seconds, Try Again')"
   ]
  },
  {
   "cell_type": "markdown",
   "id": "2297aca1-620c-4b1f-af78-22d2f9edc0f4",
   "metadata": {},
   "source": [
    "If it says \"SUCCESS!\" then congrats you got the data!\n",
    "\n",
    "### Let's check the data!\n",
    "How does it look? Well the data comes back as a JSON, which can be a little confusing to look at, so let's extract the information we need, and reorganize it a bit.\n",
    "\n",
    "First, the JSON has a 'meta' key and a 'data' key. The 'meta' key gets us info like station name, latitude, longitude, etc. And 'data' is the actual data we requested. So let's get some station info, and convert the data into a pandas dataframe, which makes it easier to see. "
   ]
  },
  {
   "cell_type": "code",
   "execution_count": 4,
   "id": "d44142cc-ec93-43cb-8cdc-4521eea4b588",
   "metadata": {},
   "outputs": [
    {
     "name": "stdout",
     "output_type": "stream",
     "text": [
      "\n",
      "Successfully Orgainzed Data for:  Washington Reagan National Airport , VA\n",
      "             DATE  TMAX  TMIN  PRCP SNOW SNWD\n",
      "0      1941-06-16  78.0  59.0  0.00  0.0  0.0\n",
      "1      1941-06-17  77.0  57.0  0.16  0.0  0.0\n",
      "2      1941-06-18  83.0  55.0  0.00  0.0  0.0\n",
      "3      1941-06-19  89.0  65.0  0.00  0.0  0.0\n",
      "4      1941-06-20  92.0  67.0  0.00  0.0  0.0\n",
      "...           ...   ...   ...   ...  ...  ...\n",
      "30546  2025-02-01  53.0  32.0     T  0.0  0.0\n",
      "30547  2025-02-02  40.0  27.0  0.00  0.0  0.0\n",
      "30548  2025-02-03  53.0  33.0  0.00  0.0  0.0\n",
      "30549  2025-02-04  64.0  40.0  0.00  0.0  0.0\n",
      "30550  2025-02-05  41.0  34.0  0.05  0.0  0.0\n",
      "\n",
      "[30551 rows x 6 columns]\n"
     ]
    }
   ],
   "source": [
    "# Get Station Info\n",
    "stationName=acisData['meta']['name'].title()\n",
    "stationState=acisData['meta']['state']\n",
    "\n",
    "# Convert data into Pandas DataFrame\n",
    "acisPandas = pd.DataFrame(acisData['data'], columns=['DATE','TMAX','TMIN','PRCP','SNOW','SNWD'])\n",
    "\n",
    "print(\"\\nSuccessfully Orgainzed Data for: \",stationName,',',stationState)\n",
    "print(acisPandas)"
   ]
  },
  {
   "cell_type": "markdown",
   "id": "e5b8f757-dc2c-4b94-90cf-f187f62f0e30",
   "metadata": {},
   "source": [
    "Sometimes people want to know what the station's period of record is, so let's get that info. "
   ]
  },
  {
   "cell_type": "code",
   "execution_count": 5,
   "id": "cf804c71-a19f-420c-b74e-b7e97c0860aa",
   "metadata": {},
   "outputs": [
    {
     "name": "stdout",
     "output_type": "stream",
     "text": [
      "Period of Record:  1941 - 2025\n"
     ]
    }
   ],
   "source": [
    "stationStart=acisPandas.iloc[[0]]['DATE'].values[0][0:4]\n",
    "stationEnd=acisPandas.iloc[[-1]]['DATE'].values[0][0:4]\n",
    "print(\"Period of Record: \",stationStart,\"-\",stationEnd)"
   ]
  },
  {
   "cell_type": "markdown",
   "id": "3cdda9d2-8e4e-4eb2-8339-245f5a7bf730",
   "metadata": {},
   "source": [
    "### Output to CSV\n",
    "Last step outputs the data to a CSV file so you can load it and play with it elsewhere. Or you can keep playing with it here. You do you!"
   ]
  },
  {
   "cell_type": "code",
   "execution_count": 6,
   "id": "d6c12f49-ff71-4ee1-8be4-6696253ffb0b",
   "metadata": {},
   "outputs": [
    {
     "name": "stdout",
     "output_type": "stream",
     "text": [
      "SUCESSFULLY GOT DATA AND PUT IN: ./DCA_Daily_POR.csv\n"
     ]
    }
   ],
   "source": [
    "# Send to CSV\n",
    "outFile='./'+stationID+'_Daily_POR.csv'\n",
    "acisPandas.to_csv(outFile,index=False)\n",
    "\n",
    "# If you made it this far. Success!\n",
    "print('SUCESSFULLY GOT DATA AND PUT IN:',outFile)"
   ]
  },
  {
   "cell_type": "markdown",
   "id": "eafc96f0-b15b-4208-8df1-5aa91c80d0a6",
   "metadata": {},
   "source": [
    "That's it! Now you have data for 1 station in the database. What if you want to get multiple stations? It's doable!\n",
    "\n",
    "**Congrats on completing this notebook! Now go forth and get your data!**"
   ]
  }
 ],
 "metadata": {
  "kernelspec": {
   "display_name": "Python 3 (ipykernel)",
   "language": "python",
   "name": "python3"
  },
  "language_info": {
   "codemirror_mode": {
    "name": "ipython",
    "version": 3
   },
   "file_extension": ".py",
   "mimetype": "text/x-python",
   "name": "python",
   "nbconvert_exporter": "python",
   "pygments_lexer": "ipython3",
   "version": "3.11.6"
  }
 },
 "nbformat": 4,
 "nbformat_minor": 5
}
